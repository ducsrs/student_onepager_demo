{
 "cells": [
  {
   "cell_type": "markdown",
   "id": "80e409a6-bcb8-4a47-bac7-259cef673385",
   "metadata": {},
   "source": [
    "Before running:\n",
    "- Double-check the Tableau workbook for accuracy and layout\n",
    "- Make a new access token and update the 'tabcmd_token' environment variable (they expire quick)\n",
    "- Download the 'Names to Export' sheet from the newest One Pager workbook to this folder\n",
    "- If there's a folder called 'Reports' from the last time, rename or move it so it doesn't get overwritten.\n",
    "\n",
    "The purpose of this notebook is to download a pdf for each student in the list and make each report available, both in a folder by advisory and as a single merged pdf. For best results run cells one by one.\n",
    "\n",
    "If something goes wrong, look into the lines starting with ```system('tabcmd```."
   ]
  },
  {
   "cell_type": "code",
   "execution_count": null,
   "id": "823d4da8-e002-4cf2-90f7-23bf24a808a0",
   "metadata": {},
   "outputs": [],
   "source": [
    "import pandas as pd\n",
    "from os import system, path, walk, makedirs, environ\n",
    "\n",
    "TOKEN_NAME = 'DonKALC'\n",
    "TOKEN_VALUE = environ['tabcmd_token']\n",
    "REPORT_NAME = 'One-PagerQ2'"
   ]
  },
  {
   "cell_type": "code",
   "execution_count": null,
   "id": "68f6b36f-ffce-46a3-862d-466e8034f42d",
   "metadata": {},
   "outputs": [],
   "source": [
    "with open('Names to Export.csv', encoding='UTF-16') as file:\n",
    "    names = pd.read_csv(file, sep='\\t', names=['Student', 'Advisor', 'Type'])[1:]\n",
    "    \n",
    "names['Advisor'].unique()"
   ]
  },
  {
   "cell_type": "code",
   "execution_count": null,
   "id": "caa9dc53-a96c-44b9-8542-c035aa7f4644",
   "metadata": {},
   "outputs": [],
   "source": [
    "names = names[~names['Student'].str.contains(\"---\")]"
   ]
  },
  {
   "cell_type": "markdown",
   "id": "8798ffc9-f04b-448c-8bc9-30f9733b0590",
   "metadata": {},
   "source": [
    "This cell will take a while; you can follow its progress in the terminal window that launched Jupyter, or by opening tabcmd.log. **Change your power settings to keep the computer from sleeping!** It's a good idea to check some pdfs as they come out."
   ]
  },
  {
   "cell_type": "code",
   "execution_count": null,
   "id": "3d041251-08c7-44e1-b0dc-8d1997368407",
   "metadata": {},
   "outputs": [],
   "source": [
    "system(f'tabcmd login -s servername -t sitename --token-name {TOKEN_NAME} --token-value {TOKEN_VALUE}')\n",
    "\n",
    "for _, (student, advisor, type) in names.iterrows():\n",
    "    if not path.exists(r'Reports/' + advisor):\n",
    "        makedirs(r'Reports/' + advisor)\n",
    "    system(f'tabcmd export \"One-PagerQ2/OnePager{type}Version?NameAndID=\"{student} --pdf -f \"Reports/{advisor}/{student}.pdf\"')"
   ]
  },
  {
   "cell_type": "markdown",
   "id": "7ab58e54-8f09-4b16-8203-f9485a600fb9",
   "metadata": {},
   "source": [
    "If the kernel freezes, use the cell below to restart from the middle of the loop."
   ]
  },
  {
   "cell_type": "code",
   "execution_count": null,
   "id": "f0a0edf5-4940-4b83-98dd-e3962385935b",
   "metadata": {},
   "outputs": [],
   "source": [
    "system(f'tabcmd login -s servername -t sitename --token-name {TOKEN_NAME} --token-value {TOKEN_VALUE}')\n",
    "\n",
    "stopped_at = 'Student_100_id_100'\n",
    "flag = False\n",
    "\n",
    "for _, (student, advisor, type) in names.iterrows():\n",
    "    if student == stopped_at:\n",
    "        flag = True\n",
    "    if flag:\n",
    "        if not path.exists(r'Reports/' + advisor):\n",
    "            makedirs(r'Reports/' + advisor)\n",
    "        system(f'tabcmd export \"One-PagerStaging_/OnePager{type}Version?NameAndID=\"{student} --pdf -f \"Reports/{advisor}/{student}.pdf\"')"
   ]
  },
  {
   "cell_type": "markdown",
   "id": "384f602f-0975-498e-b160-06a5e56d89d2",
   "metadata": {},
   "source": [
    "Another variation, this time updating specific students after correcting their details:"
   ]
  },
  {
   "cell_type": "code",
   "execution_count": null,
   "id": "242b6acb-2d07-48d1-9485-902702edbc23",
   "metadata": {},
   "outputs": [],
   "source": [
    "system(f'tabcmd login -s servername -t sitename --token-name {TOKEN_NAME} --token-value {TOKEN_VALUE}')\n",
    "\n",
    "corrections = [id_1, id_2, id_3, id_4]\n",
    "\n",
    "for _, (student, advisor, type) in names.iterrows():\n",
    "    lasid = int(student.split('_')[1])\n",
    "    if lasid in corrections:\n",
    "        if not path.exists(r'Reports/' + advisor):\n",
    "            makedirs(r'Reports/' + advisor)\n",
    "        system(f'tabcmd export \"One-Pager/OnePager{type}Version?NameAndID=\"{student} --pdf -f \"Reports/{advisor}/{student}.pdf\"')"
   ]
  },
  {
   "cell_type": "markdown",
   "id": "fcc922a8-4271-42b8-84dd-492d06390970",
   "metadata": {},
   "source": [
    "This cell collects reports from all the directories into one file for easy printing."
   ]
  },
  {
   "cell_type": "code",
   "execution_count": null,
   "id": "fd81f708-1f83-49ff-9929-b75bfd2e986d",
   "metadata": {},
   "outputs": [],
   "source": [
    "from pypdf import PdfReader, PdfWriter\n",
    "\n",
    "writer = PdfWriter()\n",
    "\n",
    "for subdir, dirs, files in walk('Reports'):\n",
    "    if files:\n",
    "        for file in files:\n",
    "            reader = PdfReader(path.join(subdir, file))\n",
    "            writer.add_page(reader.pages[0])\n",
    "        writer.add_blank_page()\n",
    "\n",
    "writer.write(\"Reports/Merged_OnePagers.pdf\")"
   ]
  },
  {
   "cell_type": "code",
   "execution_count": null,
   "id": "22ccd87b-79c3-4dd8-92d3-b6d5dc2d041f",
   "metadata": {},
   "outputs": [],
   "source": []
  }
 ],
 "metadata": {
  "kernelspec": {
   "display_name": "Python 3 (ipykernel)",
   "language": "python",
   "name": "python3"
  },
  "language_info": {
   "codemirror_mode": {
    "name": "ipython",
    "version": 3
   },
   "file_extension": ".py",
   "mimetype": "text/x-python",
   "name": "python",
   "nbconvert_exporter": "python",
   "pygments_lexer": "ipython3",
   "version": "3.10.12"
  }
 },
 "nbformat": 4,
 "nbformat_minor": 5
}
